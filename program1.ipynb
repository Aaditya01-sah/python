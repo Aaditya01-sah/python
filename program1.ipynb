{
 "cells": [
  {
   "cell_type": "code",
   "execution_count": 43,
   "metadata": {},
   "outputs": [
    {
     "name": "stdout",
     "output_type": "stream",
     "text": [
      "hello\n"
     ]
    }
   ],
   "source": [
    "print(\"hello\")"
   ]
  },
  {
   "cell_type": "code",
   "execution_count": 9,
   "metadata": {},
   "outputs": [
    {
     "name": "stdout",
     "output_type": "stream",
     "text": [
      "you are succesfully logined\n"
     ]
    }
   ],
   "source": [
    "password=\"aaditya\"\n",
    "name=234\n",
    "if(password==\"aaditya\" and name==234):\n",
    "    print(\"you are succesfully logined\")\n",
    "else:\n",
    "    print(\"your password is incorrect\")"
   ]
  },
  {
   "cell_type": "code",
   "execution_count": 11,
   "metadata": {},
   "outputs": [
    {
     "name": "stdout",
     "output_type": "stream",
     "text": [
      "the mark is satisfying\n"
     ]
    }
   ],
   "source": [
    "mark=int(input(\"enter the mark of the student\"))\n",
    "if(mark>=90):\n",
    "    print(\"excellent mark\")\n",
    "elif(mark>=60):\n",
    "    print(\"first division\")\n",
    "else:\n",
    "    print(\"the mark is satisfying\")"
   ]
  },
  {
   "cell_type": "code",
   "execution_count": 12,
   "metadata": {},
   "outputs": [
    {
     "name": "stdout",
     "output_type": "stream",
     "text": [
      "you are not elligible\n"
     ]
    }
   ],
   "source": [
    "age=int(input(\"enter ypur age \"))\n",
    "if(age>=18):\n",
    "    print(\"you can get citizenship\")\n",
    "else:\n",
    "    print(\"you are not elligible\")"
   ]
  },
  {
   "cell_type": "markdown",
   "metadata": {},
   "source": [
    "# python"
   ]
  },
  {
   "cell_type": "code",
   "execution_count": 18,
   "metadata": {},
   "outputs": [
    {
     "name": "stdout",
     "output_type": "stream",
     "text": [
      "a is less than 0\n"
     ]
    }
   ],
   "source": [
    "a=int(input(\"enter the number\"))\n",
    "if(a<=0):\n",
    "    print(\"a is less than 0\")\n",
    "elif(a>=0 and a<=50):\n",
    "    print(\" it is  in range of 0 to 50 \")\n",
    "else:\n",
    "    print(\"it is in the range of 50 to 100\")\n"
   ]
  },
  {
   "cell_type": "markdown",
   "metadata": {},
   "source": [
    "# loop"
   ]
  },
  {
   "cell_type": "code",
   "execution_count": 22,
   "metadata": {},
   "outputs": [
    {
     "name": "stdout",
     "output_type": "stream",
     "text": [
      "1\n",
      "3\n",
      "5\n",
      "7\n",
      "9\n"
     ]
    }
   ],
   "source": [
    "for i in range(1,10,2):\n",
    "    print(i)"
   ]
  },
  {
   "cell_type": "code",
   "execution_count": null,
   "metadata": {},
   "outputs": [
    {
     "name": "stdout",
     "output_type": "stream",
     "text": [
      "185\n"
     ]
    }
   ],
   "source": [
    "sum=0\n",
    "i=1\n",
    "num=int(input(\"enter the natural number\"))\n",
    "for i in range(i,num):\n",
    "    if i==5:\n",
    "     continue   \n",
    "    sum=sum+i\n",
    "print(sum)"
   ]
  },
  {
   "cell_type": "code",
   "execution_count": 56,
   "metadata": {},
   "outputs": [
    {
     "name": "stdout",
     "output_type": "stream",
     "text": [
      "55\n"
     ]
    }
   ],
   "source": [
    "i=1\n",
    "sum=0\n",
    "while (i<=10):\n",
    "     sum=sum+i\n",
    "     i+=1\n",
    "print(sum)"
   ]
  },
  {
   "cell_type": "code",
   "execution_count": 53,
   "metadata": {},
   "outputs": [
    {
     "name": "stdout",
     "output_type": "stream",
     "text": [
      "1\n",
      "3\n",
      "5\n",
      "7\n",
      "9\n",
      "11\n",
      "13\n",
      "15\n",
      "17\n",
      "19\n",
      "21\n",
      "23\n",
      "25\n",
      "27\n",
      "29\n",
      "31\n",
      "33\n",
      "35\n",
      "37\n",
      "39\n",
      "41\n",
      "43\n",
      "45\n",
      "47\n",
      "49\n"
     ]
    }
   ],
   "source": [
    "# odd number between 0 to 50 using while loop \n",
    "i=1\n",
    "while(i<=50):\n",
    "    print(i)\n",
    "    i+=2"
   ]
  },
  {
   "cell_type": "code",
   "execution_count": 59,
   "metadata": {},
   "outputs": [
    {
     "name": "stdout",
     "output_type": "stream",
     "text": [
      "0\n",
      "1\n",
      "3\n",
      "6\n",
      "10\n",
      "15\n",
      "21\n",
      "28\n",
      "36\n",
      "45\n",
      "55\n",
      "66\n",
      "78\n",
      "91\n",
      "105\n",
      "120\n",
      "136\n",
      "153\n",
      "171\n",
      "190\n",
      "210\n",
      "231\n",
      "253\n",
      "276\n",
      "300\n",
      "325\n",
      "351\n",
      "378\n",
      "406\n",
      "435\n",
      "465\n",
      "496\n",
      "528\n",
      "561\n",
      "595\n",
      "630\n",
      "666\n",
      "703\n",
      "741\n",
      "780\n",
      "820\n",
      "861\n",
      "903\n",
      "946\n",
      "990\n",
      "1035\n",
      "1081\n",
      "1128\n",
      "1176\n",
      "1225\n",
      "1275\n",
      "1326\n",
      "1378\n",
      "1431\n",
      "1485\n",
      "1540\n",
      "1596\n",
      "1653\n",
      "1711\n",
      "1770\n",
      "1830\n",
      "1891\n",
      "1953\n",
      "2016\n",
      "2080\n",
      "2145\n",
      "2211\n",
      "2278\n",
      "2346\n",
      "2415\n",
      "2485\n",
      "2556\n",
      "2628\n",
      "2701\n",
      "2775\n",
      "2850\n",
      "2926\n",
      "3003\n"
     ]
    }
   ],
   "source": [
    "#while loop is entry control loop u have to check the conditon before running any of the program \n",
    "num=int(input(\"enter the number upto which u want to add\"))\n",
    "sum=0\n",
    "i=1\n",
    "while(i<=num):\n",
    "    print(sum)\n",
    "    sum=sum+i\n",
    "    i+=1"
   ]
  },
  {
   "cell_type": "markdown",
   "metadata": {},
   "source": [
    "# list\n"
   ]
  },
  {
   "cell_type": "code",
   "execution_count": 60,
   "metadata": {},
   "outputs": [
    {
     "name": "stdout",
     "output_type": "stream",
     "text": [
      "['apple', 23, 2.4]\n"
     ]
    }
   ],
   "source": [
    "name=[\"apple\",23,2.4]\n",
    "print(name)"
   ]
  },
  {
   "cell_type": "markdown",
   "metadata": {},
   "source": [
    "# to know the postion of the member in the list"
   ]
  },
  {
   "cell_type": "code",
   "execution_count": 63,
   "metadata": {},
   "outputs": [
    {
     "name": "stdout",
     "output_type": "stream",
     "text": [
      "position0,and value==>apple\n",
      "position1,and value==>banan\n",
      "position2,and value==>23\n",
      "position3,and value==>34.5\n"
     ]
    }
   ],
   "source": [
    "name=[\"apple\",\"banan\",23,34.5]\n",
    "for index,value in enumerate(name):\n",
    "    print(f\"position{index},and value==>{value}\")\n",
    "  "
   ]
  },
  {
   "cell_type": "code",
   "execution_count": 2,
   "metadata": {},
   "outputs": [],
   "source": [
    "def add(a,b):\n",
    "    sum=a+b\n",
    "    print(\"the sum of the two numbwe is \",sum)\n",
    "\n",
    "    add(2,3)"
   ]
  },
  {
   "cell_type": "code",
   "execution_count": 20,
   "metadata": {},
   "outputs": [
    {
     "name": "stdout",
     "output_type": "stream",
     "text": [
      "it is a not prime number\n"
     ]
    }
   ],
   "source": [
    "number=int(input(\"enter the numberu want to check whether it is prime or not\"))\n",
    "count=0\n",
    "for i in  range(1,number):\n",
    "    if(number%i==0):\n",
    "        count=count+1\n",
    "if(count>2):\n",
    "    print(\"it is a not prime number\")\n",
    "else:\n",
    "    print(\"it is prime\")"
   ]
  },
  {
   "cell_type": "code",
   "execution_count": 8,
   "metadata": {},
   "outputs": [
    {
     "name": "stdout",
     "output_type": "stream",
     "text": [
      "aaditya\n",
      "aaditya\n",
      "aaditya\n",
      "aaditya\n",
      "aaditya\n",
      "aaditya\n",
      "aaditya\n",
      "aaditya\n",
      "aaditya\n",
      "aaditya\n"
     ]
    }
   ],
   "source": [
    "name=\"aaditya\"\n",
    "for i in range(10):\n",
    "    print(name)"
   ]
  },
  {
   "cell_type": "markdown",
   "metadata": {},
   "source": [
    "# number select game \n"
   ]
  },
  {
   "cell_type": "code",
   "execution_count": 4,
   "metadata": {},
   "outputs": [
    {
     "name": "stdout",
     "output_type": "stream",
     "text": [
      "You only have 5 attemps\n",
      "your number is to loo\n",
      "your number is to loo\n",
      "your number is to high\n",
      "your number is to high\n",
      "your number is to high\n",
      "You Failed\n",
      "Wright answer was 19\n"
     ]
    }
   ],
   "source": [
    " import random\n",
    "num=random.randint(1, 100)\n",
    "print(\"You only have 5 attemps\")\n",
    "i=0\n",
    "while(i!=5):\n",
    "    luckynum=int(input(\"enter  your lucky number to play this game \"))\n",
    "    i=i+1\n",
    "    if(luckynum>num):\n",
    "        print(\"your number is to high\")\n",
    "    elif(luckynum<num):\n",
    "        print(\"your number is to loo\")\n",
    "    if(num==luckynum):\n",
    "        print(\"Congrats your guess is wright!!!\")\n",
    "if(luckynum!=num):\n",
    "   print(\"You Failed\")\n",
    "print(\"Wright answer was\",num)"
   ]
  },
  {
   "cell_type": "code",
   "execution_count": 6,
   "metadata": {},
   "outputs": [
    {
     "name": "stdout",
     "output_type": "stream",
     "text": [
      "your mark is first divison\n"
     ]
    }
   ],
   "source": [
    "mark=int(input(\"enter the mark u obatained in the exam\"))\n",
    "if(mark>=90):\n",
    "    print(\"your mark is excellent than the other\")\n",
    "elif(mark>=60):\n",
    "    print(\"your mark is first divison\")\n",
    "else:\n",
    "    print(\"your mark is not good and failed in the exam \")\n",
    "\n"
   ]
  },
  {
   "cell_type": "markdown",
   "metadata": {},
   "source": [
    "ternary operator"
   ]
  },
  {
   "cell_type": "code",
   "execution_count": 8,
   "metadata": {},
   "outputs": [
    {
     "name": "stdout",
     "output_type": "stream",
     "text": [
      "20\n"
     ]
    }
   ],
   "source": [
    "a=10\n",
    "b=20\n",
    "c=10 if a>b else 20\n",
    "print(c)"
   ]
  },
  {
   "cell_type": "markdown",
   "metadata": {},
   "source": [
    "ternary operator of three number "
   ]
  },
  {
   "cell_type": "code",
   "execution_count": 11,
   "metadata": {},
   "outputs": [
    {
     "name": "stdout",
     "output_type": "stream",
     "text": [
      "the minimum value among the number is  2\n"
     ]
    }
   ],
   "source": [
    "a=int(input(\"enter the value of the a\"))\n",
    "b=int(input(\"enter the vakue of the b\"))\n",
    "c=int(input(\"enter the value of the c\"))\n",
    "minimum=a if a<b and a<c else b if b<c else c\n",
    "print(\"the minimum value among the number is \",minimum)"
   ]
  },
  {
   "cell_type": "markdown",
   "metadata": {},
   "source": [
    "to know the id"
   ]
  },
  {
   "cell_type": "code",
   "execution_count": 13,
   "metadata": {},
   "outputs": [
    {
     "name": "stdout",
     "output_type": "stream",
     "text": [
      "140708946371784\n",
      "140708946372104\n",
      "False\n"
     ]
    }
   ],
   "source": [
    "a=10\n",
    "b=20\n",
    "print(id(a))\n",
    "print(id(b))\n",
    "print(a is b)"
   ]
  },
  {
   "cell_type": "code",
   "execution_count": 14,
   "metadata": {},
   "outputs": [
    {
     "name": "stdout",
     "output_type": "stream",
     "text": [
      "True\n"
     ]
    }
   ],
   "source": [
    "a=\"learning python is always fun \"\n",
    "print(\"a\" in a)"
   ]
  },
  {
   "cell_type": "code",
   "execution_count": null,
   "metadata": {},
   "outputs": [],
   "source": [
    "\n",
    "\n"
   ]
  }
 ],
 "metadata": {
  "kernelspec": {
   "display_name": "Python 3",
   "language": "python",
   "name": "python3"
  },
  "language_info": {
   "codemirror_mode": {
    "name": "ipython",
    "version": 3
   },
   "file_extension": ".py",
   "mimetype": "text/x-python",
   "name": "python",
   "nbconvert_exporter": "python",
   "pygments_lexer": "ipython3",
   "version": "3.13.0"
  }
 },
 "nbformat": 4,
 "nbformat_minor": 2
}
